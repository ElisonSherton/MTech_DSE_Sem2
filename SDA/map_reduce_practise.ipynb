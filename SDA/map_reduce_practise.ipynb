{
 "cells": [
  {
   "cell_type": "markdown",
   "id": "84fb6bd5-f9ba-46c0-8da8-27e621053306",
   "metadata": {},
   "source": [
    "# Map-Reduce Examples\n",
    "\n",
    "1. Define the dataset on which the result needs to be computed\n",
    "2. Map a function to each and every element \n",
    "3. Reduce the mapped element list"
   ]
  },
  {
   "cell_type": "markdown",
   "id": "bb2e3683-32a1-4f5e-ab22-7584ae4fd243",
   "metadata": {},
   "source": [
    "## Sum of first n natural numbers (n = 10)"
   ]
  },
  {
   "cell_type": "code",
   "execution_count": 1,
   "id": "134287d7-771a-4d88-a24c-c3e7c68bc254",
   "metadata": {},
   "outputs": [],
   "source": [
    "data = [1, 2, 3, 4, 5, 6, 7, 8, 9, 10]\n",
    "\n",
    "# Define the map function\n",
    "def mapping_function(x):\n",
    "    return x\n",
    "\n",
    "def reduce_function(l):\n",
    "    return sum(l)\n",
    "\n",
    "assert reduce_function([mapping_function(x) for x in data]) == 55"
   ]
  },
  {
   "cell_type": "markdown",
   "id": "01966463-7279-4cc6-85b1-661fa1783e3e",
   "metadata": {},
   "source": [
    "## Product of first n natural numbers (n = 10)"
   ]
  },
  {
   "cell_type": "code",
   "execution_count": 2,
   "id": "4f3fc733-b83b-48bc-9ed2-b8f6692415f0",
   "metadata": {},
   "outputs": [],
   "source": [
    "data = [1, 2, 3, 4, 5, 6, 7, 8, 9, 10]\n",
    "\n",
    "# Define the map function\n",
    "def mapping_function(x):\n",
    "    return x\n",
    "\n",
    "def reduce_function(l):\n",
    "    product = 1\n",
    "    for element in l: product *= element\n",
    "    return product\n",
    "\n",
    "assert reduce_function([mapping_function(x) for x in data]) == 3628800"
   ]
  },
  {
   "cell_type": "markdown",
   "id": "aeaffc81-67fc-4c21-a028-a12bf0d43170",
   "metadata": {},
   "source": [
    "## Sum of squares of first n natural numbers (n = 10)"
   ]
  },
  {
   "cell_type": "code",
   "execution_count": 3,
   "id": "a71fe5db-5464-42d4-a076-31fd961f95a4",
   "metadata": {},
   "outputs": [],
   "source": [
    "data = [1, 2, 3, 4, 5, 6, 7, 8, 9, 10]\n",
    "\n",
    "# Define the map function\n",
    "def mapping_function(x):\n",
    "    return x ** 2\n",
    "\n",
    "def reduce_function(l):\n",
    "    return sum(l)\n",
    "\n",
    "assert reduce_function([mapping_function(x) for x in data]) == 385"
   ]
  },
  {
   "cell_type": "markdown",
   "id": "f57fcc3b-0889-4ff8-9b8e-cb0671733c9e",
   "metadata": {},
   "source": [
    "## Add elements of a given sequence *a*"
   ]
  },
  {
   "cell_type": "code",
   "execution_count": 4,
   "id": "1dcb602d-a6e5-4917-91c7-05cfb1057068",
   "metadata": {},
   "outputs": [],
   "source": [
    "a = [23, 45, 64, 78, 90, 10, 23, 45, 12, 32, 59]\n",
    "\n",
    "# Define the map function\n",
    "def mapping_function(x):\n",
    "    return a[x]\n",
    "\n",
    "def reduce_function(l):\n",
    "    return sum(l)\n",
    "\n",
    "assert reduce_function([mapping_function(x) for x in range(len(a))]) == 481"
   ]
  },
  {
   "cell_type": "markdown",
   "id": "9c61b0e4-084b-4c9a-b390-9d709366c5dd",
   "metadata": {},
   "source": [
    "## Map quadratic function to a sequence a\n",
    "\n",
    "$$\n",
    "\\text{map_fn} = \\Sigma_{i=0}^{N} a_i^2 + a_i + 1\n",
    "$$"
   ]
  },
  {
   "cell_type": "code",
   "execution_count": 5,
   "id": "e2117f8f-fb58-4b22-9e5c-2665ca40441a",
   "metadata": {},
   "outputs": [],
   "source": [
    "a = [23, 45, 64, 78, 90, 10, 23, 45, 12, 32, 59]\n",
    "\n",
    "# Define the map function\n",
    "def mapping_function(x):\n",
    "    return a[x] ** 2 + a[x] + 1\n",
    "\n",
    "def reduce_function(l):\n",
    "    return sum(l)\n",
    "\n",
    "assert reduce_function([mapping_function(x) for x in range(len(a))]) == 28629"
   ]
  }
 ],
 "metadata": {
  "kernelspec": {
   "display_name": "Python 3 (ipykernel)",
   "language": "python",
   "name": "python3"
  },
  "language_info": {
   "codemirror_mode": {
    "name": "ipython",
    "version": 3
   },
   "file_extension": ".py",
   "mimetype": "text/x-python",
   "name": "python",
   "nbconvert_exporter": "python",
   "pygments_lexer": "ipython3",
   "version": "3.8.13"
  }
 },
 "nbformat": 4,
 "nbformat_minor": 5
}

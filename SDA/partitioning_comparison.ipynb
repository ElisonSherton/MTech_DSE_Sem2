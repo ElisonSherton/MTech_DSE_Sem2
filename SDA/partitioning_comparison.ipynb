{
 "cells": [
  {
   "cell_type": "markdown",
   "metadata": {},
   "source": [
    "# Partitioning Schemes"
   ]
  },
  {
   "cell_type": "code",
   "execution_count": 1,
   "metadata": {},
   "outputs": [],
   "source": [
    "import numpy as np\n",
    "import pandas as pd\n",
    "import random, copy\n",
    "random.seed(0)\n",
    "\n",
    "from functools import wraps\n",
    "from time import perf_counter\n",
    "from typing import Callable, Tuple\n",
    "\n",
    "import matplotlib.pyplot as plt\n",
    "import seaborn as sns\n",
    "plt.style.use(\"ggplot\")\n",
    "%matplotlib inline"
   ]
  },
  {
   "cell_type": "code",
   "execution_count": 2,
   "metadata": {},
   "outputs": [],
   "source": [
    "def get_random_order_list(n):\n",
    "    l = np.arange(1, n + 1).tolist()\n",
    "    random.shuffle(l)\n",
    "    return l\n",
    "\n",
    "def get_random_order_dictionary(n):\n",
    "    l = np.arange(1, n + 1).tolist()\n",
    "    random.shuffle(l)\n",
    "    \n",
    "    new_l = {}\n",
    "    for idx, elem in enumerate(l):\n",
    "        new_l[idx] = elem\n",
    "    \n",
    "    return new_l"
   ]
  },
  {
   "cell_type": "code",
   "execution_count": 3,
   "metadata": {},
   "outputs": [
    {
     "data": {
      "text/plain": [
       "{0: 8, 1: 9, 2: 2, 3: 6, 4: 4, 5: 5, 6: 3, 7: 1, 8: 10, 9: 7}"
      ]
     },
     "execution_count": 3,
     "metadata": {},
     "output_type": "execute_result"
    }
   ],
   "source": [
    "get_random_order_dictionary(10)"
   ]
  },
  {
   "cell_type": "code",
   "execution_count": 4,
   "metadata": {},
   "outputs": [],
   "source": [
    "def timer(func: Callable) -> Callable:\n",
    "    @wraps(func)\n",
    "    def wrapper(*args, **kwargs):\n",
    "        start = perf_counter()\n",
    "        results = func(*args, **kwargs)\n",
    "        end = perf_counter()\n",
    "        run_time = end - start\n",
    "        return results, run_time\n",
    "\n",
    "    return wrapper"
   ]
  },
  {
   "cell_type": "code",
   "execution_count": 5,
   "metadata": {},
   "outputs": [],
   "source": [
    "def partition_lomuto(sublist, start, end):\n",
    "    # Take the last element as the pivot element\n",
    "    pivot = sublist[end]\n",
    "    \n",
    "    # Start comparing from the beginning or the start of the list\n",
    "    begin = start - 1\n",
    "    \n",
    "    # Move across the length of the provided sublist\n",
    "    for current in range(start, end):\n",
    "        # Whenever the current position element is lesser than pivot, then swap\n",
    "        # the two elements\n",
    "        if sublist[current] <= pivot:\n",
    "            begin += 1\n",
    "            sublist[current], sublist[begin] = sublist[begin], sublist[current]\n",
    "    \n",
    "    # Finally place the pivot in it's correct position\n",
    "    sublist[end], sublist[begin + 1] = sublist[begin + 1], sublist[end]\n",
    "    return (begin + 1)\n",
    "\n",
    "def partition_hoare(sublist, start, end):\n",
    " \n",
    "    pivot = sublist[start]\n",
    "    i = start - 1\n",
    "    j = end + 1\n",
    "     \n",
    "    \n",
    "    while True:\n",
    "        \n",
    "        # Keep moving right till we find an element less than the pivot\n",
    "        i += 1\n",
    "        while (sublist[i] < pivot):\n",
    "            i += 1\n",
    "            \n",
    "        # Keep moving left till we find an element greater than the pivot\n",
    "        j -= 1\n",
    "        while (sublist[j] > pivot):\n",
    "            j -= 1 \n",
    "            \n",
    "        # Whenever the right and left pointers cross over, return\n",
    "        # Right pointer to the calling function\n",
    "        if i >= j:\n",
    "            return j\n",
    "        \n",
    "        # Otherwise swap the left and right pointer contents\n",
    "        sublist[i], sublist[j] = sublist[j], sublist[i]\n",
    "    \n",
    "    return j\n",
    "\n",
    "@timer\n",
    "def quicksort(l, start, end, partition_type = \"lomuto\"):\n",
    "    \n",
    "    # As long as end and start don't cross each other\n",
    "    if start < end:\n",
    "        # Perform partitioning and get the index of pivot \n",
    "        # which will be placed in final position\n",
    "        if partition_type == \"lomuto\":\n",
    "            part_index = partition_lomuto(l, start, end)\n",
    "        else:\n",
    "            part_index = partition_hoare(l, start, end)\n",
    "        \n",
    "        # Recursively call quicksort on left and right partitions\n",
    "        # Pass in which method to use for partition as an argument\n",
    "        if partition_type == \"lomuto\":\n",
    "            quicksort(l, start, part_index - 1, partition_type)\n",
    "        else:\n",
    "            quicksort(l, start, part_index, partition_type)\n",
    "        \n",
    "        quicksort(l, part_index + 1, end, partition_type)"
   ]
  },
  {
   "cell_type": "code",
   "execution_count": 6,
   "metadata": {},
   "outputs": [],
   "source": [
    "random.seed(10)\n",
    "all_records = []\n",
    "\n",
    "for ip_size in np.arange(1000, 100001, 1000):\n",
    "    l = get_random_order_list(ip_size)\n",
    "    original_l = copy.deepcopy(l)\n",
    "    start, end = 0, len(l) - 1\n",
    "    _, lomuto_runtime = quicksort(l, start, end)\n",
    "    _, hoare_runtime = quicksort(original_l, start, end, \"hoare\")\n",
    "    \n",
    "    all_records.append([ip_size, lomuto_runtime, hoare_runtime, \"List\"])"
   ]
  },
  {
   "cell_type": "code",
   "execution_count": 7,
   "metadata": {},
   "outputs": [],
   "source": [
    "list_results = pd.DataFrame(all_records, columns = [\"InputSize\", \"Lomuto\", \"Hoare\", \"Type\"])"
   ]
  },
  {
   "cell_type": "code",
   "execution_count": 8,
   "metadata": {},
   "outputs": [],
   "source": [
    "random.seed(10)\n",
    "all_records = []\n",
    "\n",
    "for ip_size in np.arange(1000, 100001, 1000):\n",
    "    l = get_random_order_dictionary(ip_size)\n",
    "    original_l = copy.deepcopy(l)\n",
    "    start, end = 0, len(l) - 1\n",
    "    _, lomuto_runtime = quicksort(l, start, end)\n",
    "    _, hoare_runtime = quicksort(original_l, start, end, \"hoare\")\n",
    "    \n",
    "    all_records.append([ip_size, lomuto_runtime, hoare_runtime, \"Dict\"])"
   ]
  },
  {
   "cell_type": "code",
   "execution_count": 9,
   "metadata": {},
   "outputs": [],
   "source": [
    "dict_results = pd.DataFrame(all_records, columns = [\"InputSize\", \"Lomuto\", \"Hoare\", \"Type\"])"
   ]
  },
  {
   "cell_type": "code",
   "execution_count": 11,
   "metadata": {},
   "outputs": [],
   "source": [
    "result = pd.concat([list_results, dict_results]).reset_index(drop = True)"
   ]
  },
  {
   "cell_type": "code",
   "execution_count": 12,
   "metadata": {},
   "outputs": [
    {
     "data": {
      "text/html": [
       "<div>\n",
       "<style scoped>\n",
       "    .dataframe tbody tr th:only-of-type {\n",
       "        vertical-align: middle;\n",
       "    }\n",
       "\n",
       "    .dataframe tbody tr th {\n",
       "        vertical-align: top;\n",
       "    }\n",
       "\n",
       "    .dataframe thead th {\n",
       "        text-align: right;\n",
       "    }\n",
       "</style>\n",
       "<table border=\"1\" class=\"dataframe\">\n",
       "  <thead>\n",
       "    <tr style=\"text-align: right;\">\n",
       "      <th></th>\n",
       "      <th>InputSize</th>\n",
       "      <th>Lomuto</th>\n",
       "      <th>Hoare</th>\n",
       "      <th>Type</th>\n",
       "    </tr>\n",
       "  </thead>\n",
       "  <tbody>\n",
       "    <tr>\n",
       "      <th>0</th>\n",
       "      <td>1000</td>\n",
       "      <td>0.006919</td>\n",
       "      <td>0.007081</td>\n",
       "      <td>List</td>\n",
       "    </tr>\n",
       "    <tr>\n",
       "      <th>1</th>\n",
       "      <td>2000</td>\n",
       "      <td>0.011575</td>\n",
       "      <td>0.008100</td>\n",
       "      <td>List</td>\n",
       "    </tr>\n",
       "    <tr>\n",
       "      <th>2</th>\n",
       "      <td>3000</td>\n",
       "      <td>0.007616</td>\n",
       "      <td>0.007008</td>\n",
       "      <td>List</td>\n",
       "    </tr>\n",
       "    <tr>\n",
       "      <th>3</th>\n",
       "      <td>4000</td>\n",
       "      <td>0.007824</td>\n",
       "      <td>0.008275</td>\n",
       "      <td>List</td>\n",
       "    </tr>\n",
       "    <tr>\n",
       "      <th>4</th>\n",
       "      <td>5000</td>\n",
       "      <td>0.009741</td>\n",
       "      <td>0.010463</td>\n",
       "      <td>List</td>\n",
       "    </tr>\n",
       "    <tr>\n",
       "      <th>...</th>\n",
       "      <td>...</td>\n",
       "      <td>...</td>\n",
       "      <td>...</td>\n",
       "      <td>...</td>\n",
       "    </tr>\n",
       "    <tr>\n",
       "      <th>195</th>\n",
       "      <td>96000</td>\n",
       "      <td>0.373513</td>\n",
       "      <td>0.341428</td>\n",
       "      <td>Dict</td>\n",
       "    </tr>\n",
       "    <tr>\n",
       "      <th>196</th>\n",
       "      <td>97000</td>\n",
       "      <td>0.404374</td>\n",
       "      <td>0.339463</td>\n",
       "      <td>Dict</td>\n",
       "    </tr>\n",
       "    <tr>\n",
       "      <th>197</th>\n",
       "      <td>98000</td>\n",
       "      <td>0.399386</td>\n",
       "      <td>0.351538</td>\n",
       "      <td>Dict</td>\n",
       "    </tr>\n",
       "    <tr>\n",
       "      <th>198</th>\n",
       "      <td>99000</td>\n",
       "      <td>0.380953</td>\n",
       "      <td>0.353317</td>\n",
       "      <td>Dict</td>\n",
       "    </tr>\n",
       "    <tr>\n",
       "      <th>199</th>\n",
       "      <td>100000</td>\n",
       "      <td>0.385880</td>\n",
       "      <td>0.358321</td>\n",
       "      <td>Dict</td>\n",
       "    </tr>\n",
       "  </tbody>\n",
       "</table>\n",
       "<p>200 rows × 4 columns</p>\n",
       "</div>"
      ],
      "text/plain": [
       "     InputSize    Lomuto     Hoare  Type\n",
       "0         1000  0.006919  0.007081  List\n",
       "1         2000  0.011575  0.008100  List\n",
       "2         3000  0.007616  0.007008  List\n",
       "3         4000  0.007824  0.008275  List\n",
       "4         5000  0.009741  0.010463  List\n",
       "..         ...       ...       ...   ...\n",
       "195      96000  0.373513  0.341428  Dict\n",
       "196      97000  0.404374  0.339463  Dict\n",
       "197      98000  0.399386  0.351538  Dict\n",
       "198      99000  0.380953  0.353317  Dict\n",
       "199     100000  0.385880  0.358321  Dict\n",
       "\n",
       "[200 rows x 4 columns]"
      ]
     },
     "execution_count": 12,
     "metadata": {},
     "output_type": "execute_result"
    }
   ],
   "source": [
    "result"
   ]
  },
  {
   "cell_type": "code",
   "execution_count": 19,
   "metadata": {},
   "outputs": [
    {
     "data": {
      "image/png": "[encoded data removed]",
      "text/plain": [
       "<Figure size 1440x216 with 1 Axes>"
      ]
     },
     "metadata": {
      "needs_background": "light"
     },
     "output_type": "display_data"
    }
   ],
   "source": [
    "fig, ax = plt.subplots(1, 1, figsize = (20,3))\n",
    "sns.barplot(x = \"InputSize\", y = \"Lomuto\", data = result, hue = \"Type\", ax = ax)#, cmap = \"YlGnBu\")\n",
    "plt.xticks(rotation = 90);\n",
    "plt.title(\"Lomuto's Partitioning Scheme demonstrating Locality of Reference\");"
   ]
  },
  {
   "cell_type": "code",
   "execution_count": 20,
   "metadata": {},
   "outputs": [
    {
     "data": {
      "image/png": "[encoded data removed]",
      "text/plain": [
       "<Figure size 1440x216 with 1 Axes>"
      ]
     },
     "metadata": {
      "needs_background": "light"
     },
     "output_type": "display_data"
    }
   ],
   "source": [
    "fig, ax = plt.subplots(1, 1, figsize = (20,3))\n",
    "sns.barplot(x = \"InputSize\", y = \"Hoare\", data = result, hue = \"Type\", ax = ax)#, cmap = \"YlGnBu\")\n",
    "plt.xticks(rotation = 90);\n",
    "plt.title(\"Hoare's Partitioning Scheme demonstrating Locality of Reference\");"
   ]
  },
  {
   "cell_type": "markdown",
   "metadata": {},
   "source": [
    "# List vs Dict \n",
    "\n",
    "`Hoare's Partition` and `Lomuto's Partition` are both methods which are employed in QuickSort algorithm for recursively reducing the problem by partitioning the problem into smaller sub-problems.\n",
    "\n",
    "In the code above, we are looking at how performance is affected when we use a list vs a dict.\n",
    "\n",
    "In python, lists are implemented as dynamic arrays of conntiguous memory blocks. Dicts are implemented as hash-tables with contiguous memory. \n",
    "\n",
    "> *However, since lists have a lower memory footprint, as we only need to store the values as opposed to dicts where we need to save both keys and values, memory ammortization works better since we still have a fixed size cache so in lists, we're able to save larger number of actual list value blocks as opposed to dictionaries keys and values together. This clearly demonstrates the importance of spatial locality of reference as in the diagrams above, we can find that when we run quicksort on list as opposed to dictionary, we're consistently observing that the list sorting is quicker and more so when the size of list N increases*"
   ]
  }
 ],
 "metadata": {
  "kernelspec": {
   "display_name": "Python 3",
   "language": "python",
   "name": "python3"
  },
  "language_info": {
   "codemirror_mode": {
    "name": "ipython",
    "version": 3
   },
   "file_extension": ".py",
   "mimetype": "text/x-python",
   "name": "python",
   "nbconvert_exporter": "python",
   "pygments_lexer": "ipython3",
   "version": "3.6.10"
  }
 },
 "nbformat": 4,
 "nbformat_minor": 4
}

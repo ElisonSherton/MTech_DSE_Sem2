{
 "cells": [
  {
   "cell_type": "markdown",
   "metadata": {
    "tags": []
   },
   "source": [
    "# Partitioning Schemes"
   ]
  },
  {
   "cell_type": "code",
   "execution_count": 1,
   "metadata": {},
   "outputs": [],
   "source": [
    "import numpy as np\n",
    "import pandas as pd\n",
    "import random, copy\n",
    "random.seed(0)\n",
    "\n",
    "from functools import wraps\n",
    "from time import perf_counter\n",
    "from typing import Callable, Tuple, List\n",
    "\n",
    "import matplotlib.pyplot as plt\n",
    "import seaborn as sns\n",
    "plt.style.use(\"ggplot\")\n",
    "%matplotlib inline"
   ]
  },
  {
   "cell_type": "code",
   "execution_count": 2,
   "metadata": {},
   "outputs": [],
   "source": [
    "def get_random_order_list(n:int):\n",
    "    \"\"\"\n",
    "    Given an integer n, creates a list containing first n natural \n",
    "    numbers. shuffles them randomly and returns the output\n",
    "    \"\"\"\n",
    "    l = np.arange(1, n + 1).tolist()\n",
    "    random.shuffle(l)\n",
    "    return l"
   ]
  },
  {
   "cell_type": "code",
   "execution_count": 3,
   "metadata": {},
   "outputs": [],
   "source": [
    "def timer(func:Callable) -> Callable:\n",
    "    \"\"\"\n",
    "    Wrapper function to measure time for a function call\n",
    "    \"\"\"\n",
    "    @wraps(func)\n",
    "    def wrapper(*args, **kwargs):\n",
    "        start = perf_counter()\n",
    "        results = func(*args, **kwargs)\n",
    "        end = perf_counter()\n",
    "        run_time = end - start\n",
    "        return results, run_time\n",
    "\n",
    "    return wrapper"
   ]
  },
  {
   "cell_type": "code",
   "execution_count": 4,
   "metadata": {},
   "outputs": [],
   "source": [
    "def partition_lomuto(sublist:List, start:int, end:int):\n",
    "    \"\"\"\n",
    "    Given a list, partitions it using lomuto's method\n",
    "    using the start and end positions\n",
    "    \"\"\"\n",
    "    # Take the last element as the pivot element\n",
    "    pivot = sublist[end]\n",
    "    \n",
    "    # Start comparing from the beginning or the start of the list\n",
    "    begin = start - 1\n",
    "    \n",
    "    # Move across the length of the provided sublist\n",
    "    for current in range(start, end):\n",
    "        # Whenever the current position element is lesser than pivot, then swap\n",
    "        # the two elements\n",
    "        if sublist[current] <= pivot:\n",
    "            begin += 1\n",
    "            sublist[current], sublist[begin] = sublist[begin], sublist[current]\n",
    "    \n",
    "    # Finally place the pivot in it's correct position\n",
    "    sublist[end], sublist[begin + 1] = sublist[begin + 1], sublist[end]\n",
    "    return (begin + 1)\n",
    "\n",
    "def partition_hoare(sublist:List, start:int, end:int):\n",
    "    \"\"\"\n",
    "    Given a list, partitions it using hoare's method\n",
    "    using the start and end positions\n",
    "    \"\"\"\n",
    "    pivot = sublist[start]\n",
    "    i = start - 1\n",
    "    j = end + 1\n",
    "     \n",
    "    \n",
    "    while True:\n",
    "        \n",
    "        # Keep moving right till we find an element less than the pivot\n",
    "        i += 1\n",
    "        while (sublist[i] < pivot):\n",
    "            i += 1\n",
    "            \n",
    "        # Keep moving left till we find an element greater than the pivot\n",
    "        j -= 1\n",
    "        while (sublist[j] > pivot):\n",
    "            j -= 1 \n",
    "            \n",
    "        # Whenever the right and left pointers cross over, return\n",
    "        # Right pointer to the calling function\n",
    "        if i >= j:\n",
    "            return j\n",
    "        \n",
    "        # Otherwise swap the left and right pointer contents\n",
    "        sublist[i], sublist[j] = sublist[j], sublist[i]\n",
    "    \n",
    "    return j\n",
    "\n",
    "@timer\n",
    "def quicksort(l, start, end, partition_type = \"lomuto\"):\n",
    "    \"\"\"\n",
    "    Given a list, the start and end indexes of the list and\n",
    "    the partitioning scheme, sorts the list using quicksort.\n",
    "    \"\"\"\n",
    "    # As long as end and start don't cross each other\n",
    "    if start < end:\n",
    "        # Perform partitioning and get the index of pivot \n",
    "        # which will be placed in final position\n",
    "        if partition_type == \"lomuto\":\n",
    "            part_index = partition_lomuto(l, start, end)\n",
    "        else:\n",
    "            part_index = partition_hoare(l, start, end)\n",
    "        \n",
    "        # Recursively call quicksort on left and right partitions\n",
    "        # Pass in which method to use for partition as an argument\n",
    "        if partition_type == \"lomuto\":\n",
    "            quicksort(l, start, part_index - 1, partition_type)\n",
    "        else:\n",
    "            quicksort(l, start, part_index, partition_type)\n",
    "        \n",
    "        quicksort(l, part_index + 1, end, partition_type)"
   ]
  },
  {
   "cell_type": "code",
   "execution_count": 5,
   "metadata": {},
   "outputs": [],
   "source": [
    "random.seed(10)\n",
    "all_records = []\n",
    "\n",
    "for ip_size in np.arange(5000, 10000001, 500000):\n",
    "    # Create a list and it's copy\n",
    "    l = get_random_order_list(ip_size)\n",
    "    original_l = copy.deepcopy(l)\n",
    "    start, end = 0, len(l) - 1\n",
    "    \n",
    "    # Sort the lists using hoare's and lomuto's partitioning schemes\n",
    "    _, lomuto_runtime = quicksort(l, start, end)\n",
    "    _, hoare_runtime = quicksort(original_l, start, end, \"hoare\")\n",
    "    \n",
    "    # Accumulate the result into a list \n",
    "    all_records.append([ip_size, lomuto_runtime, \"Lomuto\"])\n",
    "    all_records.append([ip_size, hoare_runtime, \"Hoare\"])"
   ]
  },
  {
   "cell_type": "code",
   "execution_count": 6,
   "metadata": {},
   "outputs": [
    {
     "data": {
      "text/html": [
       "<div>\n",
       "<style scoped>\n",
       "    .dataframe tbody tr th:only-of-type {\n",
       "        vertical-align: middle;\n",
       "    }\n",
       "\n",
       "    .dataframe tbody tr th {\n",
       "        vertical-align: top;\n",
       "    }\n",
       "\n",
       "    .dataframe thead th {\n",
       "        text-align: right;\n",
       "    }\n",
       "</style>\n",
       "<table border=\"1\" class=\"dataframe\">\n",
       "  <thead>\n",
       "    <tr style=\"text-align: right;\">\n",
       "      <th></th>\n",
       "      <th>InputSize</th>\n",
       "      <th>Time</th>\n",
       "      <th>Method</th>\n",
       "    </tr>\n",
       "  </thead>\n",
       "  <tbody>\n",
       "    <tr>\n",
       "      <th>35</th>\n",
       "      <td>8505000</td>\n",
       "      <td>35.369598</td>\n",
       "      <td>Hoare</td>\n",
       "    </tr>\n",
       "    <tr>\n",
       "      <th>36</th>\n",
       "      <td>9005000</td>\n",
       "      <td>37.709283</td>\n",
       "      <td>Lomuto</td>\n",
       "    </tr>\n",
       "    <tr>\n",
       "      <th>37</th>\n",
       "      <td>9005000</td>\n",
       "      <td>38.183236</td>\n",
       "      <td>Hoare</td>\n",
       "    </tr>\n",
       "    <tr>\n",
       "      <th>38</th>\n",
       "      <td>9505000</td>\n",
       "      <td>40.508976</td>\n",
       "      <td>Lomuto</td>\n",
       "    </tr>\n",
       "    <tr>\n",
       "      <th>39</th>\n",
       "      <td>9505000</td>\n",
       "      <td>38.819216</td>\n",
       "      <td>Hoare</td>\n",
       "    </tr>\n",
       "  </tbody>\n",
       "</table>\n",
       "</div>"
      ],
      "text/plain": [
       "    InputSize       Time  Method\n",
       "35    8505000  35.369598   Hoare\n",
       "36    9005000  37.709283  Lomuto\n",
       "37    9005000  38.183236   Hoare\n",
       "38    9505000  40.508976  Lomuto\n",
       "39    9505000  38.819216   Hoare"
      ]
     },
     "execution_count": 6,
     "metadata": {},
     "output_type": "execute_result"
    }
   ],
   "source": [
    "# Create a dataframe of the results and display last few entries\n",
    "results = pd.DataFrame(all_records, columns = [\"InputSize\", \"Time\", \"Method\"])\n",
    "results.tail()"
   ]
  },
  {
   "cell_type": "code",
   "execution_count": 7,
   "metadata": {},
   "outputs": [
    {
     "data": {
      "image/png": "[encoded data removed]",
      "text/plain": [
       "<Figure size 864x360 with 1 Axes>"
      ]
     },
     "metadata": {
      "needs_background": "light"
     },
     "output_type": "display_data"
    }
   ],
   "source": [
    "# Lomuto vs Hoare comparison plot\n",
    "fig, ax = plt.subplots(1, 1, figsize = (12,5))\n",
    "sns.barplot(x = \"InputSize\", y = \"Time\", data = results, hue = \"Method\", ax = ax)#, cmap = \"YlGnBu\")\n",
    "plt.xticks(rotation = 90);\n",
    "plt.title(\"Lomuto vs Hoare partitioning in quicksort wrt Problem Size\");"
   ]
  },
  {
   "cell_type": "markdown",
   "metadata": {},
   "source": [
    "# Hoare's method v/s Lomuto's method of Partitioning\n",
    "\n",
    "`Hoare's Partition` and `Lomuto's Partition` are both methods which are employed in QuickSort algorithm for recursively reducing the problem by partitioning the problem into smaller sub-problems.\n",
    "\n",
    "In the code above, we are looking at how performance is affected when we use one method vs another.\n",
    "\n",
    "Both the methods have a best time complexity of `O(nlogn)` and a worst case time complexity of `O(n^2)`. But from the above chart, we can see that *Hoare's method is most often taking slightly more time than Lomuto's method*. Why is this?\n",
    "\n",
    "In Hoare's method, we use two pointers right and left and we keep moving them toward one another until they cross. \n",
    "\n",
    "In Lomuto's method we start at one end and go to other end when partitioning. \n",
    "\n",
    "In some sense, we could say that Hoare's partitioning needs bidirectional element access and Lomuto's needs only one directional (As also seen from the code).\n",
    "\n",
    "This means in Lomuto's method, we can intuitively imagine that memory amortization will work better as spatial locality will be exploited to the fullest. In Hoare's method also it will be exploited but the front and back elements would be loaded into the cache simultaneously so the effective portions of array to the left and right that are loaded in the cache memory from RAM would be smaller in a sense...\n",
    "\n",
    "From a locality of reference perspective therefore, Lomuto's method outperforms Hoare's method.\n",
    "\n",
    "**Interesting fact**: However, theoritically, when we study the two algorithms, the expected value of number of comparisons that happen in hoare's algorithm is three times lower than lomuto's algorithm, [Full discussion here](https://cs.stackexchange.com/a/11550). But practically as we see above, Lomuto's method is slightly faster in practise (Despite both having the same time complexity).\n",
    "\n",
    "So, some of our high number of element lists sometimes show better performance with Hoare than with Lomuto."
   ]
  }
 ],
 "metadata": {
  "kernelspec": {
   "display_name": "Python 3",
   "language": "python",
   "name": "python3"
  },
  "language_info": {
   "codemirror_mode": {
    "name": "ipython",
    "version": 3
   },
   "file_extension": ".py",
   "mimetype": "text/x-python",
   "name": "python",
   "nbconvert_exporter": "python",
   "pygments_lexer": "ipython3",
   "version": "3.6.10"
  }
 },
 "nbformat": 4,
 "nbformat_minor": 4
}
